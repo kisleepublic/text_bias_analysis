{
 "cells": [
  {
   "cell_type": "code",
   "execution_count": 1,
   "id": "19d3866d",
   "metadata": {},
   "outputs": [],
   "source": [
    "import pandas as pd\n",
    "import os\n",
    "import glob\n",
    "import json\n",
    "from tqdm.notebook import tqdm"
   ]
  },
  {
   "cell_type": "code",
   "execution_count": 2,
   "id": "72e22097",
   "metadata": {},
   "outputs": [
    {
     "name": "stdout",
     "output_type": "stream",
     "text": [
      "['C:\\\\Users\\\\Kislee\\\\Workspace\\\\2023\\\\text_bias_analysis\\\\raw_json_data\\\\talksets-train-1.json', 'C:\\\\Users\\\\Kislee\\\\Workspace\\\\2023\\\\text_bias_analysis\\\\raw_json_data\\\\talksets-train-2.json', 'C:\\\\Users\\\\Kislee\\\\Workspace\\\\2023\\\\text_bias_analysis\\\\raw_json_data\\\\talksets-train-3.json', 'C:\\\\Users\\\\Kislee\\\\Workspace\\\\2023\\\\text_bias_analysis\\\\raw_json_data\\\\talksets-train-4.json', 'C:\\\\Users\\\\Kislee\\\\Workspace\\\\2023\\\\text_bias_analysis\\\\raw_json_data\\\\talksets-train-5.json', 'C:\\\\Users\\\\Kislee\\\\Workspace\\\\2023\\\\text_bias_analysis\\\\raw_json_data\\\\talksets-train-6.json']\n"
     ]
    }
   ],
   "source": [
    "FILE_PATH = os.getcwd() + r'\\raw_json_data' #json file directory\n",
    "files = glob.glob(os.path.join(FILE_PATH, '*.json'))\n",
    "print(files)"
   ]
  },
  {
   "cell_type": "code",
   "execution_count": 3,
   "id": "5989aa1c",
   "metadata": {},
   "outputs": [
    {
     "data": {
      "application/vnd.jupyter.widget-view+json": {
       "model_id": "db49507fe8844011a2ec1ce643b8f713",
       "version_major": 2,
       "version_minor": 0
      },
      "text/plain": [
       "  0%|          | 0/6 [00:00<?, ?it/s]"
      ]
     },
     "metadata": {},
     "output_type": "display_data"
    }
   ],
   "source": [
    "dfs=[]\n",
    "for filename in tqdm(files):\n",
    "    with open(filename, 'r', encoding='utf-8') as f:\n",
    "        js = json.loads(f.read(), strict=False)\n",
    "        dfs.append(pd.json_normalize(data=js, record_path = 'sentences'))       \n",
    "js_df = pd.concat(dfs)"
   ]
  },
  {
   "cell_type": "code",
   "execution_count": 4,
   "id": "a578dc25",
   "metadata": {},
   "outputs": [
    {
     "data": {
      "text/plain": [
       "(408369, 11)"
      ]
     },
     "execution_count": 4,
     "metadata": {},
     "output_type": "execute_result"
    }
   ],
   "source": [
    "js_df.shape"
   ]
  },
  {
   "cell_type": "code",
   "execution_count": 5,
   "id": "1d180b68",
   "metadata": {},
   "outputs": [],
   "source": [
    "js_df = js_df[['text', 'types', 'intensity']]"
   ]
  },
  {
   "cell_type": "code",
   "execution_count": 6,
   "id": "76901dbd",
   "metadata": {},
   "outputs": [
    {
     "data": {
      "text/html": [
       "<div>\n",
       "<style scoped>\n",
       "    .dataframe tbody tr th:only-of-type {\n",
       "        vertical-align: middle;\n",
       "    }\n",
       "\n",
       "    .dataframe tbody tr th {\n",
       "        vertical-align: top;\n",
       "    }\n",
       "\n",
       "    .dataframe thead th {\n",
       "        text-align: right;\n",
       "    }\n",
       "</style>\n",
       "<table border=\"1\" class=\"dataframe\">\n",
       "  <thead>\n",
       "    <tr style=\"text-align: right;\">\n",
       "      <th></th>\n",
       "      <th>text</th>\n",
       "      <th>types</th>\n",
       "      <th>intensity</th>\n",
       "    </tr>\n",
       "  </thead>\n",
       "  <tbody>\n",
       "    <tr>\n",
       "      <th>0</th>\n",
       "      <td>부랴부랴 왔는데 아무도 안왔네. 시간개념들이 없네</td>\n",
       "      <td>[CENSURE]</td>\n",
       "      <td>2.0</td>\n",
       "    </tr>\n",
       "    <tr>\n",
       "      <th>1</th>\n",
       "      <td>맞아. 사람들이 진짜 개념이없다</td>\n",
       "      <td>[CENSURE]</td>\n",
       "      <td>2.0</td>\n",
       "    </tr>\n",
       "    <tr>\n",
       "      <th>2</th>\n",
       "      <td>저렇게는 살지 말아야지</td>\n",
       "      <td>[CENSURE]</td>\n",
       "      <td>2.0</td>\n",
       "    </tr>\n",
       "    <tr>\n",
       "      <th>3</th>\n",
       "      <td>그러게 게으르고 멍청한 사람들은 맞아야해</td>\n",
       "      <td>[CENSURE]</td>\n",
       "      <td>2.0</td>\n",
       "    </tr>\n",
       "    <tr>\n",
       "      <th>4</th>\n",
       "      <td>인방 보는 남자는 거르는게 맞다</td>\n",
       "      <td>[CENSURE]</td>\n",
       "      <td>1.0</td>\n",
       "    </tr>\n",
       "  </tbody>\n",
       "</table>\n",
       "</div>"
      ],
      "text/plain": [
       "                          text      types  intensity\n",
       "0  부랴부랴 왔는데 아무도 안왔네. 시간개념들이 없네  [CENSURE]        2.0\n",
       "1            맞아. 사람들이 진짜 개념이없다  [CENSURE]        2.0\n",
       "2                 저렇게는 살지 말아야지  [CENSURE]        2.0\n",
       "3       그러게 게으르고 멍청한 사람들은 맞아야해  [CENSURE]        2.0\n",
       "4            인방 보는 남자는 거르는게 맞다  [CENSURE]        1.0"
      ]
     },
     "execution_count": 6,
     "metadata": {},
     "output_type": "execute_result"
    }
   ],
   "source": [
    "js_df.head()"
   ]
  },
  {
   "cell_type": "code",
   "execution_count": 7,
   "id": "64dd1e57",
   "metadata": {},
   "outputs": [],
   "source": [
    "# 데이터 타입 변경 \n",
    "js_df = js_df.astype({'types':'string'})"
   ]
  },
  {
   "cell_type": "code",
   "execution_count": 8,
   "id": "06e2e56c",
   "metadata": {},
   "outputs": [],
   "source": [
    "# 비난, 혐오, 차별 데이터만 뽑아옴\n",
    "df = js_df[(js_df['types'] == \"['CENSURE']\") | \n",
    "           (js_df['types'] == \"['HATE']\") | \n",
    "           (js_df['types'] == \"['DISCRIMINATION']\")]"
   ]
  },
  {
   "cell_type": "code",
   "execution_count": 9,
   "id": "d1a40100",
   "metadata": {},
   "outputs": [
    {
     "data": {
      "text/plain": [
       "(114512, 3)"
      ]
     },
     "execution_count": 9,
     "metadata": {},
     "output_type": "execute_result"
    }
   ],
   "source": [
    "df.shape"
   ]
  },
  {
   "cell_type": "code",
   "execution_count": 10,
   "id": "5e7ecbcf",
   "metadata": {},
   "outputs": [],
   "source": [
    "# 거슬리는 데이터 모양 바꾸기\n",
    "df = df.replace({\"['CENSURE']\":'CENSURE',\n",
    "                 \"['HATE']\":'HATE',\n",
    "                 \"['DISCRIMINATION']\":'DISCRIMINATION'})"
   ]
  },
  {
   "cell_type": "code",
   "execution_count": 11,
   "id": "6abf45de",
   "metadata": {},
   "outputs": [],
   "source": [
    "# 인덱스 초기화\n",
    "df = df.reset_index(drop=True)"
   ]
  },
  {
   "cell_type": "code",
   "execution_count": 12,
   "id": "9ec16808",
   "metadata": {},
   "outputs": [
    {
     "data": {
      "text/html": [
       "<div>\n",
       "<style scoped>\n",
       "    .dataframe tbody tr th:only-of-type {\n",
       "        vertical-align: middle;\n",
       "    }\n",
       "\n",
       "    .dataframe tbody tr th {\n",
       "        vertical-align: top;\n",
       "    }\n",
       "\n",
       "    .dataframe thead th {\n",
       "        text-align: right;\n",
       "    }\n",
       "</style>\n",
       "<table border=\"1\" class=\"dataframe\">\n",
       "  <thead>\n",
       "    <tr style=\"text-align: right;\">\n",
       "      <th></th>\n",
       "      <th>text</th>\n",
       "      <th>types</th>\n",
       "      <th>intensity</th>\n",
       "    </tr>\n",
       "  </thead>\n",
       "  <tbody>\n",
       "    <tr>\n",
       "      <th>0</th>\n",
       "      <td>부랴부랴 왔는데 아무도 안왔네. 시간개념들이 없네</td>\n",
       "      <td>CENSURE</td>\n",
       "      <td>2.0</td>\n",
       "    </tr>\n",
       "    <tr>\n",
       "      <th>1</th>\n",
       "      <td>맞아. 사람들이 진짜 개념이없다</td>\n",
       "      <td>CENSURE</td>\n",
       "      <td>2.0</td>\n",
       "    </tr>\n",
       "    <tr>\n",
       "      <th>2</th>\n",
       "      <td>저렇게는 살지 말아야지</td>\n",
       "      <td>CENSURE</td>\n",
       "      <td>2.0</td>\n",
       "    </tr>\n",
       "    <tr>\n",
       "      <th>3</th>\n",
       "      <td>그러게 게으르고 멍청한 사람들은 맞아야해</td>\n",
       "      <td>CENSURE</td>\n",
       "      <td>2.0</td>\n",
       "    </tr>\n",
       "    <tr>\n",
       "      <th>4</th>\n",
       "      <td>인방 보는 남자는 거르는게 맞다</td>\n",
       "      <td>CENSURE</td>\n",
       "      <td>1.0</td>\n",
       "    </tr>\n",
       "  </tbody>\n",
       "</table>\n",
       "</div>"
      ],
      "text/plain": [
       "                          text    types  intensity\n",
       "0  부랴부랴 왔는데 아무도 안왔네. 시간개념들이 없네  CENSURE        2.0\n",
       "1            맞아. 사람들이 진짜 개념이없다  CENSURE        2.0\n",
       "2                 저렇게는 살지 말아야지  CENSURE        2.0\n",
       "3       그러게 게으르고 멍청한 사람들은 맞아야해  CENSURE        2.0\n",
       "4            인방 보는 남자는 거르는게 맞다  CENSURE        1.0"
      ]
     },
     "execution_count": 12,
     "metadata": {},
     "output_type": "execute_result"
    }
   ],
   "source": [
    "df.head()"
   ]
  },
  {
   "cell_type": "code",
   "execution_count": 13,
   "id": "ec609d90",
   "metadata": {},
   "outputs": [],
   "source": [
    "df.to_csv('data.csv')"
   ]
  }
 ],
 "metadata": {
  "kernelspec": {
   "display_name": "Python 3",
   "language": "python",
   "name": "python3"
  },
  "language_info": {
   "codemirror_mode": {
    "name": "ipython",
    "version": 3
   },
   "file_extension": ".py",
   "mimetype": "text/x-python",
   "name": "python",
   "nbconvert_exporter": "python",
   "pygments_lexer": "ipython3",
   "version": "3.8.10"
  },
  "toc": {
   "base_numbering": 1,
   "nav_menu": {},
   "number_sections": true,
   "sideBar": true,
   "skip_h1_title": false,
   "title_cell": "Table of Contents",
   "title_sidebar": "Contents",
   "toc_cell": false,
   "toc_position": {},
   "toc_section_display": true,
   "toc_window_display": false
  }
 },
 "nbformat": 4,
 "nbformat_minor": 5
}
